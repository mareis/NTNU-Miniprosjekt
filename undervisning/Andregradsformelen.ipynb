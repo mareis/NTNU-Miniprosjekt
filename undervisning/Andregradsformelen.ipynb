{
 "cells": [
  {
   "cell_type": "markdown",
   "metadata": {},
   "source": [
    "# Andregradsformelen\n",
    "---"
   ]
  },
  {
   "cell_type": "markdown",
   "metadata": {},
   "source": []
  },
  {
   "source": [
    "# Nullpunkt \n",
    "Nullpunkter er x-verdien til skjæringspunktet med x-aksen. Altså løsningen på likningen $f(x)=0$. \n",
    "\n",
    "Med andregradsfunksjoner, $f(x)=ax^2 + bx + c$ , kan vi løse likningen med andregradsformelen for å finne nullpunktene. \n",
    "\n",
    "\n",
    "\n",
    "**Andregradsformelen**\n",
    "\n",
    "$$x = \\frac{-b + - \\sqrt{b^2- 4  a  c }}{2 a}$$ \n",
    "\n",
    "Når vi løser denne likningen må vi passe på å alltid få med både den positive og negative løsningen for kvadratrota. \n",
    "\n",
    "$$x_1 = \\frac{-b + \\sqrt{b^2- 4  a c }}{2 \\cdot a} \\; \\; \\wedge \\; \\; x_2 = \\frac{-b - \\sqrt{b^2- 4  a  c }}{2  a}$$ \n",
    "\n",
    "\n",
    "**Diskriminanten**\n",
    "\n",
    "Uttrykket inne i kvadratroten kalles diskriminanten. Verdien av diskriminanten forteller oss hvor mange nullpnkt en andregradsfunksjon har.\n",
    "\n",
    "1. Er verdien til diskriminanten $<0$, har funksjonen ingen nullpunkt, og likningen $f(x)=0$ har ingen løsning¸\n",
    "\n",
    "2. Er verdien til diskriminanten $=0$. har funksjonen et nullpunkt, og likningen $f(x)=0$ har en løsning. \n",
    "\n",
    "3. Er verdien til diskriminanten $>0$, har funksjonen to nullunkter, og likningen $f(x)=0$ har to løsninger.\n",
    "\n",
    "\n",
    "\n",
    "<img src=\"bilder/andregradsformelen.png\" width=\"500px\">\n"
   ],
   "cell_type": "markdown",
   "metadata": {}
  },
  {
   "source": [
    "**Algoritme**\n",
    "\n",
    "- Regn ut diskriminanten ut fra koefesientene til andregradsfunksjonen\n",
    "\n",
    "- Hvis $D<0$: Ingen løsning\n",
    "\n",
    "- Hvis $D=0$: Regn ut \n",
    "\n",
    "$$x=\\frac{-b}{2a}$$\n",
    "\n",
    "- Hvis $D>0$: Regn ut:\n",
    "\n",
    "$$x_1 = \\frac{-b + \\sqrt{b^2- 4 a c }}{2  a} \\; \\; \\wedge \\; \\; x_2 = \\frac{-b - \\sqrt{b^2- 4  a  c }}{2  a}$$ \n",
    "\t\n",
    "\n",
    "**Pseudokode:**\n",
    "\n",
    "```\n",
    "Gitt funksjonen abc med parameter a, b og c,\n",
    "tilsvarende koeffisientene til en andregradsfunksjon.\n",
    "\n",
    "\tRegner ut diskriminanten:\n",
    "\tD = b**2 - 4*a*c \t\t\n",
    "\t\t\n",
    "\thvis D < 0 \n",
    "\t\tingen løsning\n",
    "\t\t\t\t\n",
    "\teller hvis D = 0\n",
    "\t\ten løsning\n",
    "\t\tx =  (-b)/(2*a)\n",
    "\n",
    "\teller hvis D > 0\n",
    "\t\tto løsninger \n",
    "\t\tx_1 = (-b + sqrt( D)/(2*a)\n",
    "\t\tx_2 = (-b - sqrt( D)/(2*a)\n",
    "```\n",
    "\n",
    "**Flytskjema**\n",
    "\n",
    "<img src=\"bilder/andregradsformelen.svg\" width=\"500px\">"
   ],
   "cell_type": "markdown",
   "metadata": {}
  },
  {
   "source": [
    "### Et program som finner nullpunktene ved hjelp av andregradsformelen."
   ],
   "cell_type": "markdown",
   "metadata": {}
  },
  {
   "source": [
    "from math import sqrt   # importer sqrt (kvadratrot) fra math-biblioteket\n",
    "\n",
    "# Antall løsninger i en andregradslikning\n",
    "# Vi bruker diskriminenten, D = b**2 - 4*a*c\n",
    "# Form på likning: a*x**2 + b*x + c = 0\n",
    "\n",
    "def abc(a, b, c):\n",
    "\n",
    "    D = b**2 - 4*a*c # Diskriminanten\n",
    "\n",
    "    # Ingen løsning:\n",
    "    if D < 0:\n",
    "        print(\"Likningen har ingen løsning.\")\n",
    "\n",
    "    # En løsning\n",
    "    elif D == 0:\n",
    "        x = -b/(2*a)\n",
    "        print(f\"Likningen har én løsning: x = {x}\")\n",
    "\n",
    "    # To løsninger\n",
    "    elif D > 0:\n",
    "        x_1 = (-b - sqrt(D))/(2*a)\n",
    "        x_2 = (-b + sqrt(D))/(2*a)\n",
    "        print(f\"Likningen har to løsninger: x_1 = {x_1} og x_2 = {x_2}\")"
   ],
   "cell_type": "code",
   "metadata": {},
   "execution_count": 1,
   "outputs": []
  },
  {
   "cell_type": "markdown",
   "metadata": {},
   "source": [
    "### Eksempel 1  - positiv diskriminant\n",
    "---\n",
    "\n",
    "**To løsninger, to nullpunkt**\n",
    "\n",
    "Løs likningen, $f(x)=x^2-4x+3=0$. \n",
    "\n",
    "Vi starter med å finne verdiene til a, b og c.\n",
    "\n",
    "a = 1\n",
    "\n",
    "b = -4\n",
    "\n",
    "c = 3\n"
   ]
  },
  {
   "cell_type": "code",
   "execution_count": 2,
   "metadata": {},
   "outputs": [
    {
     "output_type": "stream",
     "name": "stdout",
     "text": [
      "Likningen har to løsninger: x_1 = 1.0 og x_2 = 3.0\n"
     ]
    }
   ],
   "source": [
    "abc(1, -4, 3)"
   ]
  },
  {
   "source": [
    "Likningen har to løsninger og dermed har funksjonen $f(x)=x^2-4x+3=0$ to nullpunkter. \n",
    "\n",
    "<img src=\"bilder/diskriminantP2.png\" width=\"500px\">\n",
    "\n"
   ],
   "cell_type": "markdown",
   "metadata": {}
  },
  {
   "cell_type": "markdown",
   "metadata": {},
   "source": [
    "### Eksempel 2  - diskriminanten er lik 0.\n",
    "---\n",
    "**En løsning, et nullpunkt.**\n",
    "\n",
    "Løs likningen, $g(x)=x^2-4x+4=0$. \n",
    "\n",
    "Vi starter med å finne verdiene til a, b og c.\n",
    "\n",
    "a = 1\n",
    "\n",
    "b = -4\n",
    "\n",
    "c = 4\n",
    "\n"
   ]
  },
  {
   "cell_type": "code",
   "execution_count": 3,
   "metadata": {},
   "outputs": [
    {
     "output_type": "stream",
     "name": "stdout",
     "text": [
      "Likningen har én løsning: x = 2.0\n"
     ]
    }
   ],
   "source": [
    "abc(1, -4, 4)"
   ]
  },
  {
   "cell_type": "markdown",
   "metadata": {},
   "source": [
    "Likningen har en løsninger og dermed har funksjonen $g(x)=x^2-4x+4=0$ et nullpunkt. \n",
    "\n",
    "<img src=\"bilder/diskriminant0.png\" width=\"500px\">"
   ]
  },
  {
   "cell_type": "markdown",
   "metadata": {},
   "source": [
    "### Eksempel 3 - negativ diskriminant.\n",
    "---\n",
    "**Løs likningen, $h(x)=x^2 - 4x + 5=0$ .**\n",
    "\n",
    "Vi starter med å finne verdiene til a, b og c.\n",
    "\n",
    "a = 1\n",
    "\n",
    "b = -4\n",
    "\n",
    "c = 5\n"
   ]
  },
  {
   "cell_type": "code",
   "execution_count": 4,
   "metadata": {},
   "outputs": [
    {
     "output_type": "stream",
     "name": "stdout",
     "text": [
      "Likningen har ingen løsning.\n"
     ]
    }
   ],
   "source": [
    "abc(1, -4, 5)"
   ]
  },
  {
   "source": [
    "Likningen har en løsninger og dermed har funksjonen $h(x)=x^2-4x+4=0$ et nullpunkt. \n",
    "\n",
    "<img src=\"bilder/diskriminantNP.png\" width=\"500px\">\n",
    "\n"
   ],
   "cell_type": "markdown",
   "metadata": {}
  }
 ],
 "metadata": {
  "kernelspec": {
   "name": "python3",
   "display_name": "Python 3.8.2 64-bit",
   "metadata": {
    "interpreter": {
     "hash": "31f2aee4e71d21fbe5cf8b01ff0e069b9275f58929596ceb00d14d90e3e16cd6"
    }
   }
  },
  "language_info": {
   "codemirror_mode": {
    "name": "ipython",
    "version": 3
   },
   "file_extension": ".py",
   "mimetype": "text/x-python",
   "name": "python",
   "nbconvert_exporter": "python",
   "pygments_lexer": "ipython3",
   "version": "3.8.2-final"
  }
 },
 "nbformat": 4,
 "nbformat_minor": 2
}